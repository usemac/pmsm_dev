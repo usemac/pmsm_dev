{
 "cells": [
  {
   "cell_type": "code",
   "execution_count": 10,
   "id": "b59bc712",
   "metadata": {},
   "outputs": [],
   "source": [
    "import sympy as sym"
   ]
  },
  {
   "cell_type": "code",
   "execution_count": 11,
   "id": "8bb1a3ab",
   "metadata": {},
   "outputs": [],
   "source": [
    "x_0,y_0,z_0 = sym.symbols('x_0,y_0,z_0', real=True)\n",
    "x_1,y_1,z_1 = sym.symbols('x_1,y_1,z_1', real=True)\n",
    "C_000,C_100,C_010,C_110,C_001,C_101,C_011,C_111 = sym.symbols('C_000,C_100,C_010,C_110,C_001,C_101,C_011,C_111', real=True)\n",
    "a_0,a_1,a_2,a_3,a_4,a_5,a_6,a_7 = sym.symbols('a_0,a_1,a_2,a_3,a_4,a_5,a_6,a_7', real=True)"
   ]
  },
  {
   "cell_type": "code",
   "execution_count": 12,
   "id": "f7abd091",
   "metadata": {},
   "outputs": [],
   "source": [
    "M = sym.Matrix([[1, x_0, y_0, z_0, x_0*y_0, x_0*z_0, y_0*z_0, x_0*y_0*z_0],    \n",
    "                [1, x_1, y_0, z_0, x_1*y_0, x_1*z_0, y_0*z_0, x_1*y_0*z_0],    \n",
    "                [1, x_0, y_1, z_0, x_0*y_1, x_0*z_0, y_1*z_0, x_0*y_1*z_0],    \n",
    "                [1, x_1, y_1, z_0, x_1*y_1, x_1*z_0, y_1*z_0, x_1*y_1*z_0],    \n",
    "                [1, x_0, y_0, z_1, x_0*y_0, x_0*z_1, y_0*z_1, x_0*y_0*z_1],    \n",
    "                [1, x_1, y_0, z_1, x_1*y_0, x_1*z_1, y_0*z_1, x_1*y_0*z_1],    \n",
    "                [1, x_0, y_1, z_1, x_0*y_1, x_0*z_1, y_1*z_1, x_0*y_1*z_1],    \n",
    "                [1, x_1, y_1, z_1, x_1*y_1, x_1*z_1, y_1*z_1, x_1*y_1*z_1]])\n",
    "\n",
    "C = sym.Matrix([[C_000],    \n",
    "                [C_100],    \n",
    "                [C_010],    \n",
    "                [C_110],    \n",
    "                [C_001],    \n",
    "                [C_101],    \n",
    "                [C_011],    \n",
    "                [C_111]])\n",
    "\n",
    "a = sym.Matrix([[a_0],    \n",
    "                [a_1],    \n",
    "                [a_2],    \n",
    "                [a_3],    \n",
    "                [a_4],    \n",
    "                [a_5],    \n",
    "                [a_6],    \n",
    "                [a_7]])\n",
    "\n"
   ]
  },
  {
   "cell_type": "code",
   "execution_count": 14,
   "id": "f1184bbc",
   "metadata": {},
   "outputs": [],
   "source": [
    "sol = sym.solve(M*a - C,a )"
   ]
  },
  {
   "cell_type": "code",
   "execution_count": 23,
   "id": "3501c83d",
   "metadata": {},
   "outputs": [
    {
     "name": "stdout",
     "output_type": "stream",
     "text": [
      "a_0 = (-C_000*x_1*y_1*z_1 + C_001*x_1*y_1*z_0 + C_010*x_1*y_0*z_1 - C_011*x_1*y_0*z_0 + C_100*x_0*y_1*z_1 - C_101*x_0*y_1*z_0 - C_110*x_0*y_0*z_1 + C_111*x_0*y_0*z_0)/(x_0*y_0*z_0 - x_0*y_0*z_1 - x_0*y_1*z_0 + x_0*y_1*z_1 - x_1*y_0*z_0 + x_1*y_0*z_1 + x_1*y_1*z_0 - x_1*y_1*z_1)\n",
      "a_1 = (C_000*y_1*z_1 - C_001*y_1*z_0 - C_010*y_0*z_1 + C_011*y_0*z_0 - C_100*y_1*z_1 + C_101*y_1*z_0 + C_110*y_0*z_1 - C_111*y_0*z_0)/(x_0*y_0*z_0 - x_0*y_0*z_1 - x_0*y_1*z_0 + x_0*y_1*z_1 - x_1*y_0*z_0 + x_1*y_0*z_1 + x_1*y_1*z_0 - x_1*y_1*z_1)\n",
      "a_2 = (C_000*x_1*z_1 - C_001*x_1*z_0 - C_010*x_1*z_1 + C_011*x_1*z_0 - C_100*x_0*z_1 + C_101*x_0*z_0 + C_110*x_0*z_1 - C_111*x_0*z_0)/(x_0*y_0*z_0 - x_0*y_0*z_1 - x_0*y_1*z_0 + x_0*y_1*z_1 - x_1*y_0*z_0 + x_1*y_0*z_1 + x_1*y_1*z_0 - x_1*y_1*z_1)\n",
      "a_3 = (C_000*x_1*y_1 - C_001*x_1*y_1 - C_010*x_1*y_0 + C_011*x_1*y_0 - C_100*x_0*y_1 + C_101*x_0*y_1 + C_110*x_0*y_0 - C_111*x_0*y_0)/(x_0*y_0*z_0 - x_0*y_0*z_1 - x_0*y_1*z_0 + x_0*y_1*z_1 - x_1*y_0*z_0 + x_1*y_0*z_1 + x_1*y_1*z_0 - x_1*y_1*z_1)\n",
      "a_4 = (-C_000*z_1 + C_001*z_0 + C_010*z_1 - C_011*z_0 + C_100*z_1 - C_101*z_0 - C_110*z_1 + C_111*z_0)/(x_0*y_0*z_0 - x_0*y_0*z_1 - x_0*y_1*z_0 + x_0*y_1*z_1 - x_1*y_0*z_0 + x_1*y_0*z_1 + x_1*y_1*z_0 - x_1*y_1*z_1)\n",
      "a_5 = (-C_000*y_1 + C_001*y_1 + C_010*y_0 - C_011*y_0 + C_100*y_1 - C_101*y_1 - C_110*y_0 + C_111*y_0)/(x_0*y_0*z_0 - x_0*y_0*z_1 - x_0*y_1*z_0 + x_0*y_1*z_1 - x_1*y_0*z_0 + x_1*y_0*z_1 + x_1*y_1*z_0 - x_1*y_1*z_1)\n",
      "a_6 = (-C_000*x_1 + C_001*x_1 + C_010*x_1 - C_011*x_1 + C_100*x_0 - C_101*x_0 - C_110*x_0 + C_111*x_0)/(x_0*y_0*z_0 - x_0*y_0*z_1 - x_0*y_1*z_0 + x_0*y_1*z_1 - x_1*y_0*z_0 + x_1*y_0*z_1 + x_1*y_1*z_0 - x_1*y_1*z_1)\n",
      "a_7 = (C_000 - C_001 - C_010 + C_011 - C_100 + C_101 + C_110 - C_111)/(x_0*y_0*z_0 - x_0*y_0*z_1 - x_0*y_1*z_0 + x_0*y_1*z_1 - x_1*y_0*z_0 + x_1*y_0*z_1 + x_1*y_1*z_0 - x_1*y_1*z_1)\n"
     ]
    }
   ],
   "source": [
    "for it,a_i in enumerate(a):\n",
    "    rh = str(sol[a[it]])\n",
    "    print(f'a_{it} = {rh}')"
   ]
  },
  {
   "cell_type": "code",
   "execution_count": 24,
   "id": "79061c58",
   "metadata": {},
   "outputs": [
    {
     "data": {
      "text/plain": [
       "44"
      ]
     },
     "execution_count": 24,
     "metadata": {},
     "output_type": "execute_result"
    }
   ],
   "source": [
    "12*3+8"
   ]
  },
  {
   "cell_type": "code",
   "execution_count": null,
   "id": "c6959df7",
   "metadata": {},
   "outputs": [],
   "source": []
  }
 ],
 "metadata": {
  "kernelspec": {
   "display_name": "Python 3 (ipykernel)",
   "language": "python",
   "name": "python3"
  },
  "language_info": {
   "codemirror_mode": {
    "name": "ipython",
    "version": 3
   },
   "file_extension": ".py",
   "mimetype": "text/x-python",
   "name": "python",
   "nbconvert_exporter": "python",
   "pygments_lexer": "ipython3",
   "version": "3.9.13"
  }
 },
 "nbformat": 4,
 "nbformat_minor": 5
}
