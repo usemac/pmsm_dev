{
 "cells": [
  {
   "cell_type": "code",
   "execution_count": 1,
   "id": "ba9d7704",
   "metadata": {},
   "outputs": [],
   "source": [
    "import numpy as np\n",
    "import sympy as sym"
   ]
  },
  {
   "cell_type": "code",
   "execution_count": 29,
   "id": "a3774364",
   "metadata": {},
   "outputs": [],
   "source": [
    "l_aa,l_ab,l_ac = sym.symbols('l_aa,l_ab,l_ac', real = True)\n",
    "l_ba,l_bb,l_bc = sym.symbols('l_ba,l_bb,l_bc', real = True)\n",
    "l_ca,l_cb,l_cc = sym.symbols('l_ca,l_cb,l_cc', real = True)\n",
    "\n",
    "v_a,v_b,v_c = sym.symbols('v_a,v_b,v_c', real = True)\n",
    "di_a,di_b,di_c = sym.symbols('di_a,di_b,di_c', real = True)\n",
    "i_a,i_b,i_c = sym.symbols('i_a,i_b,i_c', real = True)\n",
    "R_s,omega_r,R_c = sym.symbols('R_s,omega_r,R_c', real = True)\n",
    "phi_ar,phi_br,phi_cr = sym.symbols('phi_ar,phi_br,phi_cr', real = True)\n"
   ]
  },
  {
   "cell_type": "code",
   "execution_count": 30,
   "id": "02b32bd0",
   "metadata": {},
   "outputs": [],
   "source": [
    "eq_i_a =  l_aa*di_a + l_ab*di_b + l_ac*di_c - v_a + R_s * i_a + phi_ar * omega_r    \n",
    "eq_i_b =  l_ba*di_a + l_bb*di_b + l_bc*di_c - v_b + R_s * i_b + phi_br * omega_r\n",
    "eq_i_c =  l_ca*di_a + l_cb*di_b + l_cc*di_c - v_c + R_s * i_c + phi_cr * omega_r"
   ]
  },
  {
   "cell_type": "code",
   "execution_count": 31,
   "id": "40f90249",
   "metadata": {},
   "outputs": [],
   "source": [
    "sol = sym.solve([eq_i_a,eq_i_b,eq_i_c],[di_a,di_b,di_c])"
   ]
  },
  {
   "cell_type": "code",
   "execution_count": 32,
   "id": "7f04d1b5",
   "metadata": {},
   "outputs": [
    {
     "data": {
      "text/latex": [
       "$\\displaystyle \\frac{- R_{s} i_{a} l_{bb} l_{cc} + R_{s} i_{a} l_{bc} l_{cb} + R_{s} i_{b} l_{ab} l_{cc} - R_{s} i_{b} l_{ac} l_{cb} - R_{s} i_{c} l_{ab} l_{bc} + R_{s} i_{c} l_{ac} l_{bb} - l_{ab} l_{bc} \\omega_{r} \\phi_{cr} + l_{ab} l_{bc} v_{c} + l_{ab} l_{cc} \\omega_{r} \\phi_{br} - l_{ab} l_{cc} v_{b} + l_{ac} l_{bb} \\omega_{r} \\phi_{cr} - l_{ac} l_{bb} v_{c} - l_{ac} l_{cb} \\omega_{r} \\phi_{br} + l_{ac} l_{cb} v_{b} - l_{bb} l_{cc} \\omega_{r} \\phi_{ar} + l_{bb} l_{cc} v_{a} + l_{bc} l_{cb} \\omega_{r} \\phi_{ar} - l_{bc} l_{cb} v_{a}}{l_{aa} l_{bb} l_{cc} - l_{aa} l_{bc} l_{cb} - l_{ab} l_{ba} l_{cc} + l_{ab} l_{bc} l_{ca} + l_{ac} l_{ba} l_{cb} - l_{ac} l_{bb} l_{ca}}$"
      ],
      "text/plain": [
       "(-R_s*i_a*l_bb*l_cc + R_s*i_a*l_bc*l_cb + R_s*i_b*l_ab*l_cc - R_s*i_b*l_ac*l_cb - R_s*i_c*l_ab*l_bc + R_s*i_c*l_ac*l_bb - l_ab*l_bc*omega_r*phi_cr + l_ab*l_bc*v_c + l_ab*l_cc*omega_r*phi_br - l_ab*l_cc*v_b + l_ac*l_bb*omega_r*phi_cr - l_ac*l_bb*v_c - l_ac*l_cb*omega_r*phi_br + l_ac*l_cb*v_b - l_bb*l_cc*omega_r*phi_ar + l_bb*l_cc*v_a + l_bc*l_cb*omega_r*phi_ar - l_bc*l_cb*v_a)/(l_aa*l_bb*l_cc - l_aa*l_bc*l_cb - l_ab*l_ba*l_cc + l_ab*l_bc*l_ca + l_ac*l_ba*l_cb - l_ac*l_bb*l_ca)"
      ]
     },
     "execution_count": 32,
     "metadata": {},
     "output_type": "execute_result"
    }
   ],
   "source": [
    "sym.simplify(sol[di_a])"
   ]
  },
  {
   "cell_type": "code",
   "execution_count": 34,
   "id": "8dadce06",
   "metadata": {},
   "outputs": [
    {
     "data": {
      "text/plain": [
       "'(-R_s*i_a*l_bb*l_cc + R_s*i_a*l_bc*l_cb + R_s*i_b*l_ab*l_cc - R_s*i_b*l_ac*l_cb - R_s*i_c*l_ab*l_bc + R_s*i_c*l_ac*l_bb - l_ab*l_bc*omega_r*phi_cr + l_ab*l_bc*v_c + l_ab*l_cc*omega_r*phi_br - l_ab*l_cc*v_b + l_ac*l_bb*omega_r*phi_cr - l_ac*l_bb*v_c - l_ac*l_cb*omega_r*phi_br + l_ac*l_cb*v_b - l_bb*l_cc*omega_r*phi_ar + l_bb*l_cc*v_a + l_bc*l_cb*omega_r*phi_ar - l_bc*l_cb*v_a)/(l_aa*l_bb*l_cc - l_aa*l_bc*l_cb - l_ab*l_ba*l_cc + l_ab*l_bc*l_ca + l_ac*l_ba*l_cb - l_ac*l_bb*l_ca)'"
      ]
     },
     "execution_count": 34,
     "metadata": {},
     "output_type": "execute_result"
    }
   ],
   "source": [
    "str(sol[di_a])"
   ]
  },
  {
   "cell_type": "code",
   "execution_count": 37,
   "id": "d826d307",
   "metadata": {},
   "outputs": [
    {
     "data": {
      "text/latex": [
       "$\\displaystyle R_{s} i_{a}^{2} + R_{s} i_{b}^{2} + R_{s} i_{c}^{2} + di_{a} i_{a} l_{aa} + di_{a} i_{b} l_{ba} + di_{a} i_{c} l_{ca} + di_{b} i_{a} l_{ab} + di_{b} i_{b} l_{bb} + di_{b} i_{c} l_{cb} + di_{c} i_{a} l_{ac} + di_{c} i_{b} l_{bc} + di_{c} i_{c} l_{cc} + i_{a} \\omega_{r} \\phi_{ar} - i_{a} v_{a} + i_{b} \\omega_{r} \\phi_{br} - i_{b} v_{b} + i_{c} \\omega_{r} \\phi_{cr} - i_{c} v_{c}$"
      ],
      "text/plain": [
       "R_s*i_a**2 + R_s*i_b**2 + R_s*i_c**2 + di_a*i_a*l_aa + di_a*i_b*l_ba + di_a*i_c*l_ca + di_b*i_a*l_ab + di_b*i_b*l_bb + di_b*i_c*l_cb + di_c*i_a*l_ac + di_c*i_b*l_bc + di_c*i_c*l_cc + i_a*omega_r*phi_ar - i_a*v_a + i_b*omega_r*phi_br - i_b*v_b + i_c*omega_r*phi_cr - i_c*v_c"
      ]
     },
     "execution_count": 37,
     "metadata": {},
     "output_type": "execute_result"
    }
   ],
   "source": [
    "sym.expand(eq_i_a*i_a + eq_i_b*i_b + eq_i_c*i_c)"
   ]
  },
  {
   "cell_type": "code",
   "execution_count": 46,
   "id": "95eed272",
   "metadata": {},
   "outputs": [],
   "source": [
    "import scipy.io as sio\n",
    "import matplotlib.pyplot as plt\n",
    "import pydae.plot_tools as pltt\n",
    "import sys\n",
    "\n",
    "colors = pltt.set_style(plt)"
   ]
  },
  {
   "cell_type": "code",
   "execution_count": 55,
   "id": "de744e49",
   "metadata": {},
   "outputs": [],
   "source": [
    "%matplotlib widget"
   ]
  },
  {
   "cell_type": "code",
   "execution_count": 56,
   "id": "6d17c404",
   "metadata": {},
   "outputs": [],
   "source": [
    "data = sio.loadmat('./simulink/pmsm.mat')"
   ]
  },
  {
   "cell_type": "code",
   "execution_count": 57,
   "id": "90276351",
   "metadata": {},
   "outputs": [
    {
     "data": {
      "text/plain": [
       "(21, 21, 31)"
      ]
     },
     "execution_count": 57,
     "metadata": {},
     "output_type": "execute_result"
    }
   ],
   "source": [
    "data['torque'].shape"
   ]
  },
  {
   "cell_type": "code",
   "execution_count": 77,
   "id": "e66d3ee3",
   "metadata": {},
   "outputs": [
    {
     "data": {
      "application/vnd.jupyter.widget-view+json": {
       "model_id": "c575c0c97c6a41d99f535f5422ecfb2b",
       "version_major": 2,
       "version_minor": 0
      },
      "text/plain": [
       "Canvas(toolbar=Toolbar(toolitems=[('Home', 'Reset original view', 'home', 'home'), ('Back', 'Back to previous …"
      ]
     },
     "metadata": {},
     "output_type": "display_data"
    }
   ],
   "source": [
    "\n",
    "fig,axes = plt.subplots(nrows=2, sharex=True)\n",
    "axes[0].plot(data['angleVec'][0],  data['fluxD'][10,10,:],label='omega')\n",
    "\n",
    "axes[1].plot(data['angleVec'][0],  data['fluxQ'][10,10,:],label='omega')\n",
    "\n",
    "#axes[1].plot(grid.Time,  grid.get_values('p_e_f_5')/1e6,label='omega')\n",
    "\n",
    "#axes.plot(grid.Time,  grid.get_values('omega_5')-grid.get_values('omega_coi'),label='omega')\n",
    "#axes.plot(grid.Time,  grid.get_values('P_5'),label='P_5')\n",
    "\n",
    "axes[0].grid()"
   ]
  },
  {
   "cell_type": "code",
   "execution_count": 48,
   "id": "6bf693e8",
   "metadata": {},
   "outputs": [
    {
     "data": {
      "text/plain": [
       "array([ 0,  1,  2,  3,  4,  5,  6,  7,  8,  9, 10, 11, 12, 13, 14, 15, 16,\n",
       "       17, 18, 19, 20, 21, 22, 23, 24, 25, 26, 27, 28, 29, 30],\n",
       "      dtype=uint8)"
      ]
     },
     "execution_count": 48,
     "metadata": {},
     "output_type": "execute_result"
    }
   ],
   "source": [
    "data['angleVec'][0]"
   ]
  },
  {
   "cell_type": "code",
   "execution_count": 50,
   "id": "14117931",
   "metadata": {},
   "outputs": [
    {
     "data": {
      "text/plain": [
       "array([461.04655919, 419.51713926, 382.24325587, 348.42625386,\n",
       "       336.66929706, 344.82692458, 369.37339901, 399.70419846,\n",
       "       411.92991736, 395.95926812, 368.25854118, 351.93638803,\n",
       "       358.24958202, 376.97017287, 399.46655516, 461.04655919,\n",
       "       419.51713926, 382.24325587, 348.42625386, 336.66929706,\n",
       "       344.82692458, 369.37339901, 399.70419846, 411.92991736,\n",
       "       395.95926812, 368.25854118, 351.93638803, 358.24958202,\n",
       "       376.97017287, 399.46655516, 461.04655919])"
      ]
     },
     "execution_count": 50,
     "metadata": {},
     "output_type": "execute_result"
    }
   ],
   "source": [
    "data['torque'][0,0,:]"
   ]
  },
  {
   "cell_type": "code",
   "execution_count": 73,
   "id": "5718995d",
   "metadata": {},
   "outputs": [
    {
     "data": {
      "text/plain": [
       "(21, 21, 31)"
      ]
     },
     "execution_count": 73,
     "metadata": {},
     "output_type": "execute_result"
    }
   ],
   "source": [
    "\n",
    "data['fluxD'].shape"
   ]
  },
  {
   "cell_type": "code",
   "execution_count": 68,
   "id": "84ce0bae",
   "metadata": {},
   "outputs": [
    {
     "data": {
      "text/plain": [
       "0"
      ]
     },
     "execution_count": 68,
     "metadata": {},
     "output_type": "execute_result"
    }
   ],
   "source": [
    "data['iqVec'][0][10]"
   ]
  },
  {
   "cell_type": "code",
   "execution_count": null,
   "id": "69f4ceff",
   "metadata": {},
   "outputs": [],
   "source": []
  }
 ],
 "metadata": {
  "kernelspec": {
   "display_name": "Python 3 (ipykernel)",
   "language": "python",
   "name": "python3"
  },
  "language_info": {
   "codemirror_mode": {
    "name": "ipython",
    "version": 3
   },
   "file_extension": ".py",
   "mimetype": "text/x-python",
   "name": "python",
   "nbconvert_exporter": "python",
   "pygments_lexer": "ipython3",
   "version": "3.9.7"
  }
 },
 "nbformat": 4,
 "nbformat_minor": 5
}
